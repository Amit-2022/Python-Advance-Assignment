{
 "cells": [
  {
   "cell_type": "markdown",
   "id": "99d965cc",
   "metadata": {},
   "source": [
    "# Q1. Does assigning a value to a string's indexed character violate Python's string immutability?"
   ]
  },
  {
   "cell_type": "code",
   "execution_count": null,
   "id": "cf5fbe88",
   "metadata": {},
   "outputs": [],
   "source": [
    "Yes. It is beacause of string immutability that means we can not change the characters in string by assigning new values \n",
    "to indexes."
   ]
  },
  {
   "cell_type": "markdown",
   "id": "798d7a7e",
   "metadata": {},
   "source": [
    "# Q2. Does using the += operator to concatenate strings violate Python's string immutability? Why or why not?"
   ]
  },
  {
   "cell_type": "code",
   "execution_count": null,
   "id": "c2c68a95",
   "metadata": {},
   "outputs": [],
   "source": [
    "No. When we concatenate string, we assign new value to the same string variable. We are not altering string based on the \n",
    "indexes, so it won't violate Python's string immutability"
   ]
  },
  {
   "cell_type": "markdown",
   "id": "7fce8647",
   "metadata": {},
   "source": [
    "# Q3. In Python, how many different ways are there to index a character?"
   ]
  },
  {
   "cell_type": "code",
   "execution_count": null,
   "id": "83e7081e",
   "metadata": {},
   "outputs": [],
   "source": [
    "There are two methods for this, find() and index() both will return the lowest index at which char is found."
   ]
  },
  {
   "cell_type": "markdown",
   "id": "425096bb",
   "metadata": {},
   "source": [
    "# Q4. What is the relationship between indexing and slicing?"
   ]
  },
  {
   "cell_type": "code",
   "execution_count": null,
   "id": "0d215fbe",
   "metadata": {},
   "outputs": [],
   "source": [
    "Indexing is a way to access an element of a string by its position or index. Slicing is accessing only part od a string and\n",
    "not a full string. String slicing is done by using index."
   ]
  },
  {
   "cell_type": "code",
   "execution_count": 1,
   "id": "97dddeb7",
   "metadata": {},
   "outputs": [
    {
     "name": "stdout",
     "output_type": "stream",
     "text": [
      "neu\n",
      "noru\n"
     ]
    }
   ],
   "source": [
    "s = 'ineuron'\n",
    "\n",
    "print(s[1:4])\n",
    "print(s[-1:2:-1])"
   ]
  },
  {
   "cell_type": "markdown",
   "id": "aedbca31",
   "metadata": {},
   "source": [
    "# Q5. What is an indexed character's exact data type? What is the data form of a slicing-generated substring?"
   ]
  },
  {
   "cell_type": "code",
   "execution_count": null,
   "id": "219e7d19",
   "metadata": {},
   "outputs": [],
   "source": [
    "for both cases, it is 'str' type."
   ]
  },
  {
   "cell_type": "markdown",
   "id": "d1211b1f",
   "metadata": {},
   "source": [
    "# Q6. What is the relationship between string and character \"types\" in Python?"
   ]
  },
  {
   "cell_type": "code",
   "execution_count": null,
   "id": "3d7fbc0e",
   "metadata": {},
   "outputs": [],
   "source": [
    "In Python, There is no char data type, even a single character enclosed in doubble quotes is considered as str."
   ]
  },
  {
   "cell_type": "markdown",
   "id": "ee1f5530",
   "metadata": {},
   "source": [
    "# Q7. Identify at least two operators and one method that allow you to combine one or more smaller strings to create a \n",
    "larger string."
   ]
  },
  {
   "cell_type": "code",
   "execution_count": null,
   "id": "d972d3bc",
   "metadata": {},
   "outputs": [],
   "source": [
    "\"+\" will concatenate two strings and \"*\" will repeat the string number of times mentioned. We can also use join() method \n",
    "for getting a larger string."
   ]
  },
  {
   "cell_type": "code",
   "execution_count": 2,
   "id": "e60316bd",
   "metadata": {},
   "outputs": [
    {
     "name": "stdout",
     "output_type": "stream",
     "text": [
      "Hello!How are you?\n",
      "RainRainRainRain\n",
      "How are you?\n"
     ]
    }
   ],
   "source": [
    "print(\"Hello!\" + 'How are you?')\n",
    "\n",
    "print(\"Rain\" * 4)\n",
    "\n",
    "l = ['How', 'are', 'you?']\n",
    "\n",
    "s = ' '.join(l)\n",
    "\n",
    "print(s)"
   ]
  },
  {
   "cell_type": "markdown",
   "id": "be04341c",
   "metadata": {},
   "source": [
    "# Q8. What is the benefit of first checking the target string with in or not in before using the index method to find a \n",
    "substring?"
   ]
  },
  {
   "cell_type": "code",
   "execution_count": null,
   "id": "238caf2e",
   "metadata": {},
   "outputs": [],
   "source": [
    "Normally, when we use index() method it will return the starting index of a substring, if substring is present in a string.\n",
    "But the major concern is if a substring is not present in a string, index() will return a ValueError. To avoid this, we \n",
    "can first check the target string with in or not in before using the index method to find a substring."
   ]
  },
  {
   "cell_type": "code",
   "execution_count": 3,
   "id": "4c35ef3a",
   "metadata": {},
   "outputs": [
    {
     "ename": "ValueError",
     "evalue": "substring not found",
     "output_type": "error",
     "traceback": [
      "\u001b[1;31m---------------------------------------------------------------------------\u001b[0m",
      "\u001b[1;31mValueError\u001b[0m                                Traceback (most recent call last)",
      "\u001b[1;32m~\\AppData\\Local\\Temp/ipykernel_9404/2936332804.py\u001b[0m in \u001b[0;36m<module>\u001b[1;34m\u001b[0m\n\u001b[0;32m      6\u001b[0m     \u001b[0mprint\u001b[0m\u001b[1;33m(\u001b[0m\u001b[0ms\u001b[0m\u001b[1;33m.\u001b[0m\u001b[0mindex\u001b[0m\u001b[1;33m(\u001b[0m\u001b[0ms1\u001b[0m\u001b[1;33m)\u001b[0m\u001b[1;33m)\u001b[0m\u001b[1;33m\u001b[0m\u001b[1;33m\u001b[0m\u001b[0m\n\u001b[0;32m      7\u001b[0m \u001b[1;33m\u001b[0m\u001b[0m\n\u001b[1;32m----> 8\u001b[1;33m \u001b[0ms\u001b[0m\u001b[1;33m.\u001b[0m\u001b[0mindex\u001b[0m\u001b[1;33m(\u001b[0m\u001b[0ms1\u001b[0m\u001b[1;33m)\u001b[0m\u001b[1;33m\u001b[0m\u001b[1;33m\u001b[0m\u001b[0m\n\u001b[0m",
      "\u001b[1;31mValueError\u001b[0m: substring not found"
     ]
    }
   ],
   "source": [
    "s = 'abcdefghijk'\n",
    "\n",
    "s1 = 'xyz'\n",
    "\n",
    "if s1 in s:\n",
    "    print(s.index(s1))\n",
    "\n",
    "s.index(s1)"
   ]
  },
  {
   "cell_type": "markdown",
   "id": "11218de6",
   "metadata": {},
   "source": [
    "# Q9. Which operators and built-in string methods produce simple Boolean (true/false) results?"
   ]
  },
  {
   "cell_type": "code",
   "execution_count": null,
   "id": "11577e41",
   "metadata": {},
   "outputs": [],
   "source": [
    "Operators:\n",
    "\n",
    "    1. Comparison operators : (== ,!= ,< ,> ,<=, >=) \n",
    "    2. Logical Operators : (and, or, not)\n",
    "    3. Identity Operators : (is , is not)\n",
    "    4. Membership Operators : (in, not in)\n",
    "\n",
    "String methods:\n",
    "\n",
    "    1. endswith() : Returns true if the string ends with the specified value \n",
    "    2. isalnum()    Returns True if all characters in the string are alphanumeric        \n",
    "    3. isalpha()    Returns True if all characters in the string are in the alphabet        \n",
    "    4. isdecimal()  Returns True if all characters in the string are decimals       \n",
    "    5. isdigit()    Returns True if all characters in the string are digits        \n",
    "    6. isidentifier()   Returns True if the string is an identifier        \n",
    "    7. islower()    Returns True if all characters in the string are lower case        \n",
    "    8. isnumeric()  Returns True if all characters in the string are numeric        \n",
    "    9. isprintable()    Returns True if all characters in the string are printable        \n",
    "    10. isspace()   Returns True if all characters in the string are whitespaces        \n",
    "    11. istitle()   Returns True if the string follows the rules of a title        \n",
    "    12. isupper()   Returns True if all characters in the string are upper case"
   ]
  }
 ],
 "metadata": {
  "kernelspec": {
   "display_name": "Python 3 (ipykernel)",
   "language": "python",
   "name": "python3"
  },
  "language_info": {
   "codemirror_mode": {
    "name": "ipython",
    "version": 3
   },
   "file_extension": ".py",
   "mimetype": "text/x-python",
   "name": "python",
   "nbconvert_exporter": "python",
   "pygments_lexer": "ipython3",
   "version": "3.9.7"
  }
 },
 "nbformat": 4,
 "nbformat_minor": 5
}
