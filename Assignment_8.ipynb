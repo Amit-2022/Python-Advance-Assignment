{
 "cells": [
  {
   "cell_type": "markdown",
   "id": "0ac648c5",
   "metadata": {},
   "source": [
    "# Q1. What are the two latest user-defined exception constraints in Python 3.X?"
   ]
  },
  {
   "cell_type": "code",
   "execution_count": null,
   "id": "fae83dc6",
   "metadata": {},
   "outputs": [],
   "source": [
    "1.raise statement - This is used to raise an inbuilt exception explicitly.\n",
    "2.assert statement - when condition in assert statement is true, program is executed normally. When condition is false, \n",
    "program gives an AssertionError."
   ]
  },
  {
   "cell_type": "markdown",
   "id": "e96a0126",
   "metadata": {},
   "source": [
    "# Q2. How are class-based exceptions that have been raised matched to handlers?\n"
   ]
  },
  {
   "cell_type": "code",
   "execution_count": null,
   "id": "5db1186e",
   "metadata": {},
   "outputs": [],
   "source": [
    "When exceptions are raised, then the exception is handled by the same class mentioned in except statement or its base \n",
    "classes. \"Exception\" is the base class(Superclass) for all other exception classes."
   ]
  },
  {
   "cell_type": "markdown",
   "id": "8dcf653e",
   "metadata": {},
   "source": [
    "# Q3. Describe two methods for attaching context information to exception artefacts."
   ]
  },
  {
   "cell_type": "code",
   "execution_count": null,
   "id": "6e05fcf3",
   "metadata": {},
   "outputs": [],
   "source": [
    "1.By using logging.exception() method, we can log log messages with level ERROR on the logger. I will store the information\n",
    "like type of error, line number, file name and path.\n",
    "2.By using raise keyword. It will also display Traceback of the recent exception raised."
   ]
  },
  {
   "cell_type": "code",
   "execution_count": 1,
   "id": "8ffa3c5f",
   "metadata": {},
   "outputs": [
    {
     "name": "stderr",
     "output_type": "stream",
     "text": [
      "ERROR:root:division by zero\n",
      "Traceback (most recent call last):\n",
      "  File \"C:\\Users\\amitp\\AppData\\Local\\Temp/ipykernel_8200/3018303915.py\", line 4, in <module>\n",
      "    4/0\n",
      "ZeroDivisionError: division by zero\n"
     ]
    },
    {
     "ename": "ZeroDivisionError",
     "evalue": "division by zero",
     "output_type": "error",
     "traceback": [
      "\u001b[1;31m---------------------------------------------------------------------------\u001b[0m",
      "\u001b[1;31mZeroDivisionError\u001b[0m                         Traceback (most recent call last)",
      "\u001b[1;32m~\\AppData\\Local\\Temp/ipykernel_8200/3018303915.py\u001b[0m in \u001b[0;36m<module>\u001b[1;34m\u001b[0m\n\u001b[0;32m      2\u001b[0m \u001b[1;33m\u001b[0m\u001b[0m\n\u001b[0;32m      3\u001b[0m \u001b[1;32mtry\u001b[0m\u001b[1;33m:\u001b[0m\u001b[1;33m\u001b[0m\u001b[1;33m\u001b[0m\u001b[0m\n\u001b[1;32m----> 4\u001b[1;33m     \u001b[1;36m4\u001b[0m\u001b[1;33m/\u001b[0m\u001b[1;36m0\u001b[0m\u001b[1;33m\u001b[0m\u001b[1;33m\u001b[0m\u001b[0m\n\u001b[0m\u001b[0;32m      5\u001b[0m \u001b[1;32mexcept\u001b[0m \u001b[0mException\u001b[0m \u001b[1;32mas\u001b[0m \u001b[0me\u001b[0m\u001b[1;33m:\u001b[0m\u001b[1;33m\u001b[0m\u001b[1;33m\u001b[0m\u001b[0m\n\u001b[0;32m      6\u001b[0m     \u001b[0mlogging\u001b[0m\u001b[1;33m.\u001b[0m\u001b[0mexception\u001b[0m\u001b[1;33m(\u001b[0m\u001b[0me\u001b[0m\u001b[1;33m)\u001b[0m\u001b[1;33m\u001b[0m\u001b[1;33m\u001b[0m\u001b[0m\n",
      "\u001b[1;31mZeroDivisionError\u001b[0m: division by zero"
     ]
    }
   ],
   "source": [
    "import logging\n",
    "  \n",
    "try: \n",
    "    4/0\n",
    "except Exception as e: \n",
    "    logging.exception(e)\n",
    "    raise"
   ]
  },
  {
   "cell_type": "markdown",
   "id": "3a2bc41a",
   "metadata": {},
   "source": [
    "# Q4. Describe two methods for specifying the text of an exception object's error message.\n",
    "\n"
   ]
  },
  {
   "cell_type": "code",
   "execution_count": null,
   "id": "fb8136b6",
   "metadata": {},
   "outputs": [],
   "source": [
    "1.We can print the text of an exception, by using the object of an Exception class. We can access different attributes \n",
    "like messgae, args, traceback from that object.\n",
    "2.By using logging.error() method"
   ]
  },
  {
   "cell_type": "markdown",
   "id": "a8e84e3e",
   "metadata": {},
   "source": [
    "# Q5. Why do you no longer use string-based exceptions?"
   ]
  },
  {
   "cell_type": "code",
   "execution_count": null,
   "id": "cb33c22b",
   "metadata": {},
   "outputs": [],
   "source": [
    "In Python versions 1.5 and earlier, Exceptions were strings and not classes. Now all exceptions are classes, derived from \n",
    "the superclass BaseException. With classes it is more efficiently handled as classes have many useful features."
   ]
  }
 ],
 "metadata": {
  "kernelspec": {
   "display_name": "Python 3 (ipykernel)",
   "language": "python",
   "name": "python3"
  },
  "language_info": {
   "codemirror_mode": {
    "name": "ipython",
    "version": 3
   },
   "file_extension": ".py",
   "mimetype": "text/x-python",
   "name": "python",
   "nbconvert_exporter": "python",
   "pygments_lexer": "ipython3",
   "version": "3.9.7"
  }
 },
 "nbformat": 4,
 "nbformat_minor": 5
}
