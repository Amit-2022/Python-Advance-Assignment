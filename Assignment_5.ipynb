{
 "cells": [
  {
   "cell_type": "markdown",
   "id": "4778004c",
   "metadata": {},
   "source": [
    "# Q1. What is the meaning of multiple inheritance?"
   ]
  },
  {
   "cell_type": "code",
   "execution_count": null,
   "id": "142c7bde",
   "metadata": {},
   "outputs": [],
   "source": [
    "When a class is derived from more than one base class it is called multiple Inheritance. The derived class inherits all \n",
    "the features of the base case."
   ]
  },
  {
   "cell_type": "markdown",
   "id": "e6da800c",
   "metadata": {},
   "source": [
    "# Q2. What is the concept of delegation?\n"
   ]
  },
  {
   "cell_type": "code",
   "execution_count": null,
   "id": "69479341",
   "metadata": {},
   "outputs": [],
   "source": [
    "Delegation is an object oriented technique (also called a design pattern). Let's say you have an object x and want to \n",
    "change the behaviour of just one of its methods. You can create a new class that provides a new implementation of the \n",
    "method you're interested in changing and delegates all other methods to the corresponding method of x.\n",
    "\n",
    "The delegation is accomplished via the getattr method; consult the language reference for more information about \n",
    "controlling attribute access."
   ]
  },
  {
   "cell_type": "markdown",
   "id": "e7791186",
   "metadata": {},
   "source": [
    "# Q3. What is the concept of composition?"
   ]
  },
  {
   "cell_type": "code",
   "execution_count": null,
   "id": "a737595f",
   "metadata": {},
   "outputs": [],
   "source": [
    "It is one of the fundamental concepts of Object-Oriented Programming. A class that references to one or more objects of \n",
    "other classes as an Instance variable. Here, by using the class name or by creating the object we can access the members \n",
    "of one class inside another class. It enables creating complex types by combining objects of different classes. It means \n",
    "that a class Composite can contain an object of another class Component. This type of relationship is known as Has-A \n",
    "Relation."
   ]
  },
  {
   "cell_type": "markdown",
   "id": "65412e93",
   "metadata": {},
   "source": [
    "# Q4. What are bound methods and how do we use them?"
   ]
  },
  {
   "cell_type": "code",
   "execution_count": null,
   "id": "87535ea9",
   "metadata": {},
   "outputs": [],
   "source": [
    "A bound method is the one which is dependent on the instance of the class as the first argument. It passes the instance as \n",
    "the first argument which is used to access the variables and functions. All functions in the class are by default bound \n",
    "methods."
   ]
  },
  {
   "cell_type": "code",
   "execution_count": 1,
   "id": "36dcb1b4",
   "metadata": {},
   "outputs": [
    {
     "name": "stdout",
     "output_type": "stream",
     "text": [
      "<bound method Sample.fun of <__main__.Sample object at 0x0000018194F9DB80>>\n"
     ]
    }
   ],
   "source": [
    "class Sample:\n",
    "    def fun(self, some_value):\n",
    "        self.some_value = some_value\n",
    "    \n",
    "s = Sample()\n",
    "\n",
    "print(s.fun)"
   ]
  },
  {
   "cell_type": "markdown",
   "id": "9668adb5",
   "metadata": {},
   "source": [
    "# Q5. What is the purpose of pseudoprivate attributes?"
   ]
  },
  {
   "cell_type": "code",
   "execution_count": null,
   "id": "04b28934",
   "metadata": {},
   "outputs": [],
   "source": [
    "In Python, there is no concept of \"private\" as such. When naming properties and methods at the level, some special \n",
    "processing is actually done to the name, making it inaccessible to the outside world."
   ]
  },
  {
   "cell_type": "code",
   "execution_count": 2,
   "id": "0005da82",
   "metadata": {},
   "outputs": [
    {
     "name": "stdout",
     "output_type": "stream",
     "text": [
      "1\n",
      "2\n",
      "4\n"
     ]
    }
   ],
   "source": [
    "class Test:\n",
    "    def __init__(self, a, b, c, d):\n",
    "        self.__a = a # __ means pseudo private variable\n",
    "        self.b = b\n",
    "        self.c = c\n",
    "        self.d = d\n",
    "\n",
    "    def custom(self, v):\n",
    "        return v - self.__a\n",
    "\n",
    "t = Test(1,2,3,4)    \n",
    "print(t._Test__a) # this is the way to access Pseudo private  attribute\n",
    "print(t.b)\n",
    "print(t.custom(5))"
   ]
  },
  {
   "cell_type": "code",
   "execution_count": null,
   "id": "0112569e",
   "metadata": {},
   "outputs": [],
   "source": []
  }
 ],
 "metadata": {
  "kernelspec": {
   "display_name": "Python 3 (ipykernel)",
   "language": "python",
   "name": "python3"
  },
  "language_info": {
   "codemirror_mode": {
    "name": "ipython",
    "version": 3
   },
   "file_extension": ".py",
   "mimetype": "text/x-python",
   "name": "python",
   "nbconvert_exporter": "python",
   "pygments_lexer": "ipython3",
   "version": "3.9.7"
  }
 },
 "nbformat": 4,
 "nbformat_minor": 5
}
