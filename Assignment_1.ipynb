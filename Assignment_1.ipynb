{
 "cells": [
  {
   "cell_type": "markdown",
   "id": "5887eee7",
   "metadata": {},
   "source": [
    "# Q1. What is the purpose of Python's OOP?\n"
   ]
  },
  {
   "cell_type": "markdown",
   "id": "196184a0",
   "metadata": {},
   "source": [
    "1.Provides a clear program structure and a clean code\n",
    "\n",
    "2.Facilitates easy maintenance and modification of existing code.\n",
    "\n",
    "3.Since the class is sharable, the code can be reused.\n",
    "\n",
    "4.Since the class is sharable, the code can be reused and many other such Advantages."
   ]
  },
  {
   "cell_type": "markdown",
   "id": "7aeec10f",
   "metadata": {},
   "source": [
    "# Q2. Where does an inheritance search look for an attribute?"
   ]
  },
  {
   "cell_type": "code",
   "execution_count": null,
   "id": "94f652bd",
   "metadata": {},
   "outputs": [],
   "source": [
    "Attribute fetches are simply tree searches. The term inheritance is applied because objects lower in a tree inherit \n",
    "attributes attached to objects higher in that tree. As the search proceeds from the bottom up, in a sense, the objects \n",
    "linked into a tree are the union of all the attributes defined in all their tree parents, all the way up the tree."
   ]
  },
  {
   "cell_type": "markdown",
   "id": "94d81c74",
   "metadata": {},
   "source": [
    "# Q3. How do you distinguish between a class object and an instance object?"
   ]
  },
  {
   "cell_type": "code",
   "execution_count": null,
   "id": "7861e7bb",
   "metadata": {},
   "outputs": [],
   "source": [
    "Objects and Instances are almost similar and are often used interchangeably but with a small difference. Object is a \n",
    "generic term , it is physically present but remains undiferrentiated. Instance is something that gives them a separate \n",
    "identity.\n",
    "\n",
    "Object is the physical entity for which memory is allocated. Object contains many instances.\n",
    "\n",
    "Instance : An instance is also the physical manifestation of a class that occupies memory and has data members.\n",
    "\n",
    "e.g. There is Class car, when I create c = car(), c is object. When we create different object with different specifications\n",
    "(car name, type, company) such as i10, i20, Creta, audi7 are called as instances which actually exists."
   ]
  },
  {
   "cell_type": "markdown",
   "id": "94bd49ba",
   "metadata": {},
   "source": [
    "# Q4. What makes the first argument in a class’s method function special?\n"
   ]
  },
  {
   "cell_type": "code",
   "execution_count": null,
   "id": "bfd528ee",
   "metadata": {},
   "outputs": [],
   "source": [
    "Self represents the instance of the class. By using the “self” keyword we can access the attributes and methods of the \n",
    "class in python. It binds the attributes with the given arguments.The reason you need to use self. is because Python does\n",
    "not use the @ syntax to refer to instance attributes. Python decided to do methods in a way that makes the instance to \n",
    "which the method belongs be passed automatically, but not received automatically: the first parameter of methods is the \n",
    "instance the method is called on."
   ]
  },
  {
   "cell_type": "markdown",
   "id": "0969b60b",
   "metadata": {},
   "source": [
    "# Q5. What is the purpose of the __init__ method?\n",
    "\n"
   ]
  },
  {
   "cell_type": "code",
   "execution_count": null,
   "id": "16af98bd",
   "metadata": {},
   "outputs": [],
   "source": [
    "The task of init method is to initialize(assign values) to the data members of the class when an object of class is created.\n",
    "It contains collection of statements that are executed at time of Object creation. It is run as soon as an object of a \n",
    "class is instantiated. The method is useful to do any initialization you want to do with your object."
   ]
  },
  {
   "cell_type": "markdown",
   "id": "aca8fa21",
   "metadata": {},
   "source": [
    "# Q6. What is the process for creating a class instance?"
   ]
  },
  {
   "cell_type": "code",
   "execution_count": null,
   "id": "6d277265",
   "metadata": {},
   "outputs": [],
   "source": [
    "To create instances of a class, you call the class using class name and pass in whatever arguments its init method accepts."
   ]
  },
  {
   "cell_type": "markdown",
   "id": "6694f41c",
   "metadata": {},
   "source": [
    "# Q7. What is the process for creating a class?"
   ]
  },
  {
   "cell_type": "code",
   "execution_count": null,
   "id": "f659c883",
   "metadata": {},
   "outputs": [],
   "source": [
    "The class statement creates a new class definition. The name of the class immediately follows the keyword class followed \n",
    "by a colon.Explained below"
   ]
  },
  {
   "cell_type": "code",
   "execution_count": 1,
   "id": "1826d8f5",
   "metadata": {},
   "outputs": [
    {
     "name": "stdout",
     "output_type": "stream",
     "text": [
      "This is Amit (an instance of a class Student)\n"
     ]
    }
   ],
   "source": [
    "#Example for questtion 6 & 7\n",
    "\n",
    "class Student:\n",
    "    def __init__(self,name):\n",
    "        self.name = name\n",
    "    \n",
    "    def __str__(self):\n",
    "        return f\"This is {self.name} (an instance of a class Student)\"\n",
    "    \n",
    "student1 = Student(\"Amit\")       \n",
    "print(student1)"
   ]
  },
  {
   "cell_type": "markdown",
   "id": "dcc2e3eb",
   "metadata": {},
   "source": [
    "# Q8. How would you define the superclasses of a class?"
   ]
  },
  {
   "cell_type": "code",
   "execution_count": 2,
   "id": "ca1220a4",
   "metadata": {},
   "outputs": [
    {
     "name": "stdout",
     "output_type": "stream",
     "text": [
      "this is method of class A\n",
      "this is method of class B\n",
      "this is method of class A\n",
      "this is method of class A\n",
      "this is method of class A\n"
     ]
    }
   ],
   "source": [
    "class A:\n",
    "    def method_A(self):\n",
    "        return \"this is method of class A\"\n",
    "    \n",
    "class B(A):\n",
    "    def method_B(self):\n",
    "        return \"this is method of class B\"\n",
    "\n",
    "class C(A):\n",
    "    def method_B(self):\n",
    "        return \"this is method of class C\"\n",
    "    \n",
    "class D(A):\n",
    "    def method_B(self):\n",
    "        return \"this is method of class D\"\n",
    "\n",
    "# Class B, C, D are subclasses and Class A is superclass    \n",
    "a = A()\n",
    "b = B()\n",
    "c = C()\n",
    "d = D()\n",
    "\n",
    "print(a.method_A())\n",
    "print(b.method_B())\n",
    "print(b.method_A())   # objects of class B, C and D are able to access method of class A because Class A is superclass. \n",
    "print(c.method_A())\n",
    "print(d.method_A())"
   ]
  },
  {
   "cell_type": "code",
   "execution_count": null,
   "id": "99378023",
   "metadata": {},
   "outputs": [],
   "source": []
  }
 ],
 "metadata": {
  "kernelspec": {
   "display_name": "Python 3 (ipykernel)",
   "language": "python",
   "name": "python3"
  },
  "language_info": {
   "codemirror_mode": {
    "name": "ipython",
    "version": 3
   },
   "file_extension": ".py",
   "mimetype": "text/x-python",
   "name": "python",
   "nbconvert_exporter": "python",
   "pygments_lexer": "ipython3",
   "version": "3.9.7"
  }
 },
 "nbformat": 4,
 "nbformat_minor": 5
}
